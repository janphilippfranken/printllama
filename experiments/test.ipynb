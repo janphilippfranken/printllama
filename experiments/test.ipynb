{
 "cells": [
  {
   "cell_type": "code",
   "execution_count": 2,
   "metadata": {},
   "outputs": [
    {
     "ename": "ModuleNotFoundError",
     "evalue": "No module named 'printllama'",
     "output_type": "error",
     "traceback": [
      "\u001b[0;31m---------------------------------------------------------------------------\u001b[0m",
      "\u001b[0;31mModuleNotFoundError\u001b[0m                       Traceback (most recent call last)",
      "\u001b[1;32m/Users/iphilipp/Documents/research/printllama/experiments/test.ipynb Cell 1\u001b[0m line \u001b[0;36m1\n\u001b[0;32m----> <a href='vscode-notebook-cell:/Users/iphilipp/Documents/research/printllama/experiments/test.ipynb#W0sZmlsZQ%3D%3D?line=0'>1</a>\u001b[0m \u001b[39mfrom\u001b[39;00m \u001b[39mprintllama\u001b[39;00m \u001b[39mimport\u001b[39;00m \u001b[39m*\u001b[39m\n",
      "\u001b[0;31mModuleNotFoundError\u001b[0m: No module named 'printllama'"
     ]
    }
   ],
   "source": [
    "from printllama import *"
   ]
  },
  {
   "cell_type": "code",
   "execution_count": 27,
   "metadata": {},
   "outputs": [
    {
     "name": "stdout",
     "output_type": "stream",
     "text": [
      "Result Shape: torch.Size([2, 3, 6])\n"
     ]
    }
   ],
   "source": [
    "import torch\n",
    "\n",
    "# Example input tensors\n",
    "A = torch.randn(2, 3, 4, 5)  # 4D tensor (b, m, n, k)\n",
    "B = torch.randn(3, 4, 5)     # 3D tensor (m, n, p)\n",
    "C = torch.randn(5, 6)        # 2D tensor (k, p)\n",
    "\n",
    "# Correct algorithm for the problem\n",
    "def advanced_tensor_operations(A, B, C):\n",
    "    D = A * B.unsqueeze(0)  \n",
    "    E = torch.sum(D, dim=2)\n",
    "    F = torch.bmm(E, C.unsqueeze(0).expand(E.shape[0], -1, -1))\n",
    "    return F\n",
    "\n",
    "result = advanced_tensor_operations(A, B, C)\n",
    "\n",
    "print(\"Result Shape:\", result.shape)\n",
    "\n"
   ]
  },
  {
   "cell_type": "code",
   "execution_count": 4,
   "metadata": {},
   "outputs": [
    {
     "name": "stdout",
     "output_type": "stream",
     "text": [
      "A_sliced.shape: torch.Size([3, 5])\n",
      "torch.Size([18])\n"
     ]
    }
   ],
   "source": [
    "\n",
    "import torch\n",
    "\n",
    "def algorithm(A, B, slice_index):\n",
    "    A_sliced = A[:, slice_index, :]\n",
    "    print(f\"A_sliced.shape: {A_sliced.shape}\")\n",
    "    result = torch.mm(A_sliced, B)\n",
    "    return result.view(-1)\n",
    "\n",
    "\n",
    "m, n, k = 3, 4, 5\n",
    "p = 6\n",
    "A = torch.randn(m, n, k)\n",
    "B = torch.randn(k, p)\n",
    "slice_index = -1\n",
    "\n",
    "result = algorithm(A, B, slice_index)\n",
    "print(result.shape)"
   ]
  },
  {
   "cell_type": "code",
   "execution_count": null,
   "metadata": {},
   "outputs": [],
   "source": []
  }
 ],
 "metadata": {
  "kernelspec": {
   "display_name": "printllama",
   "language": "python",
   "name": "python3"
  },
  "language_info": {
   "codemirror_mode": {
    "name": "ipython",
    "version": 3
   },
   "file_extension": ".py",
   "mimetype": "text/x-python",
   "name": "python",
   "nbconvert_exporter": "python",
   "pygments_lexer": "ipython3",
   "version": "3.10.0"
  }
 },
 "nbformat": 4,
 "nbformat_minor": 2
}
