{
 "cells": [
  {
   "cell_type": "code",
   "execution_count": 25,
   "metadata": {},
   "outputs": [
    {
     "name": "stdout",
     "output_type": "stream",
     "text": [
      "Result Shape: torch.Size([2, 5])\n",
      "Result Tensor: tensor([[ 0.5063, -0.2440,  2.1811,  0.4285,  2.1504],\n",
      "        [-0.2706, -0.3531,  3.4209, -1.0307,  0.7182]])\n"
     ]
    }
   ],
   "source": []
  },
  {
   "cell_type": "code",
   "execution_count": 27,
   "metadata": {},
   "outputs": [
    {
     "name": "stdout",
     "output_type": "stream",
     "text": [
      "Result Shape: torch.Size([2, 3, 6])\n"
     ]
    }
   ],
   "source": [
    "import torch\n",
    "\n",
    "# Example input tensors\n",
    "A = torch.randn(2, 3, 4, 5)  # 4D tensor (b, m, n, k)\n",
    "B = torch.randn(3, 4, 5)     # 3D tensor (m, n, p)\n",
    "C = torch.randn(5, 6)        # 2D tensor (k, p)\n",
    "\n",
    "# Correct algorithm for the problem\n",
    "def advanced_tensor_operations(A, B, C):\n",
    "    D = A * B.unsqueeze(0)  \n",
    "    E = torch.sum(D, dim=2)\n",
    "    F = torch.bmm(E, C.unsqueeze(0).expand(E.shape[0], -1, -1))\n",
    "    return F\n",
    "\n",
    "result = advanced_tensor_operations(A, B, C)\n",
    "\n",
    "print(\"Result Shape:\", result.shape)\n",
    "\n"
   ]
  },
  {
   "cell_type": "code",
   "execution_count": 4,
   "metadata": {},
   "outputs": [
    {
     "name": "stdout",
     "output_type": "stream",
     "text": [
      "A_sliced.shape: torch.Size([3, 5])\n",
      "torch.Size([18])\n"
     ]
    }
   ],
   "source": [
    "\n",
    "import torch\n",
    "\n",
    "def algorithm(A, B, slice_index):\n",
    "    A_sliced = A[:, slice_index, :]\n",
    "    print(f\"A_sliced.shape: {A_sliced.shape}\")\n",
    "    result = torch.mm(A_sliced, B)\n",
    "    return result.view(-1)\n",
    "\n",
    "\n",
    "m, n, k = 3, 4, 5\n",
    "p = 6\n",
    "A = torch.randn(m, n, k)\n",
    "B = torch.randn(k, p)\n",
    "slice_index = -1\n",
    "\n",
    "result = algorithm(A, B, slice_index)\n",
    "print(result.shape)"
   ]
  },
  {
   "cell_type": "code",
   "execution_count": null,
   "metadata": {},
   "outputs": [],
   "source": []
  }
 ],
 "metadata": {
  "kernelspec": {
   "display_name": "printllama",
   "language": "python",
   "name": "python3"
  },
  "language_info": {
   "codemirror_mode": {
    "name": "ipython",
    "version": 3
   },
   "file_extension": ".py",
   "mimetype": "text/x-python",
   "name": "python",
   "nbconvert_exporter": "python",
   "pygments_lexer": "ipython3",
   "version": "3.10.0"
  }
 },
 "nbformat": 4,
 "nbformat_minor": 2
}
