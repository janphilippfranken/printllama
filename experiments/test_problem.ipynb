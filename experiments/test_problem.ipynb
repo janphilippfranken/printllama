{
 "cells": [
  {
   "cell_type": "code",
   "execution_count": 10,
   "metadata": {},
   "outputs": [
    {
     "data": {
      "text/plain": [
       "tensor([[[ 1.8783,  0.4941, -4.0227,  0.8612,  3.4083,  1.2712]],\n",
       "\n",
       "        [[ 0.0923,  3.4688,  0.1292, -3.5321, -1.4622,  1.8523]],\n",
       "\n",
       "        [[ 1.6175,  0.9146, -2.3143, -1.0755,  1.1418,  1.4198]]])"
      ]
     },
     "execution_count": 10,
     "metadata": {},
     "output_type": "execute_result"
    }
   ],
   "source": [
    "import torch\n",
    "\n",
    "def correct_algorithm(A, B):\n",
    "    m, n, k = A.shape\n",
    "    p = B.shape[1]\n",
    "    # Correct slicing and reshaping\n",
    "    A_sliced = A[:, -1, :]  # Slice to get a (m, k) matrix\n",
    "    # Correct matrix multiplication\n",
    "    result = torch.mm(A_sliced, B)  # Results in a (m, p) matrix\n",
    "    # Correct final reshape\n",
    "    return result.view(m, 1, p)  # Reshape to (m, 1, p)\n",
    "\n",
    "\n",
    "a = torch.randn(3, 4, 5)\n",
    "b = torch.randn(5, 6)\n",
    "\n",
    "correct_algorithm(a, b)"
   ]
  },
  {
   "cell_type": "code",
   "execution_count": 14,
   "metadata": {},
   "outputs": [
    {
     "data": {
      "text/plain": [
       "tensor([[[ 0.8545, -1.8157,  0.2432, -0.2176,  1.9542, -0.3456],\n",
       "         [ 0.9453, -1.5579, -1.4537,  0.1448,  1.4129,  1.0928],\n",
       "         [ 4.7714,  0.1148, -1.5894, -1.3366,  0.4000,  4.1887],\n",
       "         [ 3.4195, -1.9544, -0.1893, -2.0306,  0.3588,  1.6517]]])"
      ]
     },
     "execution_count": 14,
     "metadata": {},
     "output_type": "execute_result"
    }
   ],
   "source": [
    "def incorrect_algorithm(A, B):\n",
    "    m, n, k = A.shape\n",
    "    p = B.shape[1]\n",
    "    A_sliced = A[-1, :, :]  \n",
    "    result = torch.matmul(A_sliced, B) \n",
    "    return result.view(1, n, p)  \n",
    "\n",
    "\n",
    "a = torch.randn(3, 4, 5)\n",
    "b = torch.randn(5, 6)\n",
    "incorrect_algorithm(a, b)"
   ]
  },
  {
   "cell_type": "code",
   "execution_count": 16,
   "metadata": {},
   "outputs": [],
   "source": [
    "\n",
    "def improved_algorithm(A, B):\n",
    "    m, n, k = A.shape\n",
    "    p = B.shape[1]\n",
    "    A_sliced = A[:, :, -1]  # Slice the last dimension correctly\n",
    "    result = torch.matmul(A_sliced, B)\n",
    "    # Reshape the result back into a 3D tensor with shape (m, n, p)\n",
    "    result = result.view(m, n, p)\n",
    "    return result"
   ]
  },
  {
   "cell_type": "code",
   "execution_count": 18,
   "metadata": {},
   "outputs": [
    {
     "name": "stdout",
     "output_type": "stream",
     "text": [
      "Accuracy of Incorrect Algorithm: 0.0\n",
      "Accuracy of Correct Algorithm: 1.0\n"
     ]
    },
    {
     "ename": "NameError",
     "evalue": "name 'accuracy_improved' is not defined",
     "output_type": "error",
     "traceback": [
      "\u001b[0;31m---------------------------------------------------------------------------\u001b[0m",
      "\u001b[0;31mNameError\u001b[0m                                 Traceback (most recent call last)",
      "\u001b[1;32m/Users/iphilipp/Documents/research/printllama/experiments/test_problem.ipynb Cell 4\u001b[0m line \u001b[0;36m2\n\u001b[1;32m     <a href='vscode-notebook-cell:/Users/iphilipp/Documents/research/printllama/experiments/test_problem.ipynb#W3sZmlsZQ%3D%3D?line=19'>20</a>\u001b[0m \u001b[39mprint\u001b[39m(\u001b[39m\"\u001b[39m\u001b[39mAccuracy of Incorrect Algorithm:\u001b[39m\u001b[39m\"\u001b[39m, accuracy_incorrect)\n\u001b[1;32m     <a href='vscode-notebook-cell:/Users/iphilipp/Documents/research/printllama/experiments/test_problem.ipynb#W3sZmlsZQ%3D%3D?line=20'>21</a>\u001b[0m \u001b[39mprint\u001b[39m(\u001b[39m\"\u001b[39m\u001b[39mAccuracy of Correct Algorithm:\u001b[39m\u001b[39m\"\u001b[39m, accuracy_correct)\n\u001b[0;32m---> <a href='vscode-notebook-cell:/Users/iphilipp/Documents/research/printllama/experiments/test_problem.ipynb#W3sZmlsZQ%3D%3D?line=21'>22</a>\u001b[0m \u001b[39mprint\u001b[39m(\u001b[39m\"\u001b[39m\u001b[39mAccuracy of Improved Algorithm:\u001b[39m\u001b[39m\"\u001b[39m, accuracy_improved)\n",
      "\u001b[0;31mNameError\u001b[0m: name 'accuracy_improved' is not defined"
     ]
    }
   ],
   "source": [
    "def test_algorithm(algorithm):\n",
    "    test_cases = [\n",
    "        (torch.randn(3, 4, 5), torch.randn(5, 6)),\n",
    "        (torch.randn(2, 3, 6), torch.randn(6, 4)),\n",
    "        (torch.randn(5, 3, 2), torch.randn(2, 3)),\n",
    "        (torch.randn(4, 6, 7), torch.randn(7, 5)),\n",
    "        (torch.randn(3, 5, 4), torch.randn(4, 3)),\n",
    "    ]\n",
    "    correct_results = [correct_algorithm(A, B) for A, B in test_cases]\n",
    "    tested_results = [algorithm(A, B) for A, B in test_cases]\n",
    "\n",
    "    correct_count = sum(t.shape == c.shape for t, c in zip(tested_results, correct_results))\n",
    "    accuracy = correct_count / len(test_cases)\n",
    "    return accuracy\n",
    "\n",
    "accuracy_incorrect = test_algorithm(incorrect_algorithm)\n",
    "accuracy_correct = test_algorithm(correct_algorithm)\n",
    "# accuracy_improved = test_algorithm(improv/ed_algorithm)\n",
    "\n",
    "print(\"Accuracy of Incorrect Algorithm:\", accuracy_incorrect)\n",
    "print(\"Accuracy of Correct Algorithm:\", accuracy_correct)\n",
    "print(\"Accuracy of Improved Algorithm:\", accuracy_improved)"
   ]
  },
  {
   "cell_type": "code",
   "execution_count": null,
   "metadata": {},
   "outputs": [],
   "source": []
  }
 ],
 "metadata": {
  "kernelspec": {
   "display_name": "printllama",
   "language": "python",
   "name": "python3"
  },
  "language_info": {
   "codemirror_mode": {
    "name": "ipython",
    "version": 3
   },
   "file_extension": ".py",
   "mimetype": "text/x-python",
   "name": "python",
   "nbconvert_exporter": "python",
   "pygments_lexer": "ipython3",
   "version": "3.10.0"
  }
 },
 "nbformat": 4,
 "nbformat_minor": 2
}
