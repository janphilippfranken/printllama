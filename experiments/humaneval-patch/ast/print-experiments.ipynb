{
 "cells": [
  {
   "cell_type": "code",
   "execution_count": 4,
   "metadata": {},
   "outputs": [],
   "source": [
    "from utils import Perturber\n",
    "from datasets import load_dataset\n",
    "import pandas as pd\n",
    "import ast\n",
    "df = load_dataset('openai_humaneval')['test'].to_pandas()\n",
    "perturbations = pd.read_csv('../data/humaneval-patch-122723.csv')"
   ]
  },
  {
   "cell_type": "code",
   "execution_count": 63,
   "metadata": {},
   "outputs": [],
   "source": [
    "sol, bug = df.iloc[3]['prompt'] + df.iloc[3]['canonical_solution'], perturbations.iloc[3]['bug']"
   ]
  }
 ],
 "metadata": {
  "kernelspec": {
   "display_name": "Python 3",
   "language": "python",
   "name": "python3"
  },
  "language_info": {
   "codemirror_mode": {
    "name": "ipython",
    "version": 3
   },
   "file_extension": ".py",
   "mimetype": "text/x-python",
   "name": "python",
   "nbconvert_exporter": "python",
   "pygments_lexer": "ipython3",
   "version": "3.8.10"
  }
 },
 "nbformat": 4,
 "nbformat_minor": 2
}
